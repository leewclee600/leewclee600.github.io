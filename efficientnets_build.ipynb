{
  "nbformat": 4,
  "nbformat_minor": 0,
  "metadata": {
    "kernelspec": {
      "name": "python3",
      "display_name": "Python 3",
      "language": "python"
    },
    "language_info": {
      "name": "python",
      "version": "3.7.6",
      "mimetype": "text/x-python",
      "codemirror_mode": {
        "name": "ipython",
        "version": 3
      },
      "pygments_lexer": "ipython3",
      "nbconvert_exporter": "python",
      "file_extension": ".py"
    },
    "colab": {
      "name": "efficientnets build.ipynb",
      "provenance": [],
      "collapsed_sections": [],
      "include_colab_link": true
    }
  },
  "cells": [
    {
      "cell_type": "markdown",
      "metadata": {
        "id": "view-in-github",
        "colab_type": "text"
      },
      "source": [
        "<a href=\"https://colab.research.google.com/github/leewclee600/leewclee600.github.io/blob/master/efficientnets_build.ipynb\" target=\"_parent\"><img src=\"https://colab.research.google.com/assets/colab-badge.svg\" alt=\"Open In Colab\"/></a>"
      ]
    },
    {
      "cell_type": "markdown",
      "metadata": {
        "id": "Hz6uCAkRT-ym",
        "colab_type": "text"
      },
      "source": [
        "# Imports"
      ]
    },
    {
      "cell_type": "code",
      "metadata": {
        "_kg_hide-output": true,
        "trusted": true,
        "id": "oRvWhL5eT-yn",
        "colab_type": "code",
        "colab": {},
        "outputId": "df75437f-2f1a-4e6e-db4c-27de0b9da9f9"
      },
      "source": [
        "!pip install ../input/kerasapplications/keras-team-keras-applications-3b180cb -f ./ --no-index\n",
        "!pip install ../input/efficientnet/efficientnet-1.1.0/ -f ./ --no-index"
      ],
      "execution_count": null,
      "outputs": [
        {
          "output_type": "stream",
          "text": [
            "Looking in links: ./\n",
            "Processing /kaggle/input/kerasapplications/keras-team-keras-applications-3b180cb\n",
            "Requirement already satisfied: numpy>=1.9.1 in /opt/conda/lib/python3.7/site-packages (from Keras-Applications==1.0.8) (1.18.5)\n",
            "Requirement already satisfied: h5py in /opt/conda/lib/python3.7/site-packages (from Keras-Applications==1.0.8) (2.10.0)\n",
            "Requirement already satisfied: six in /opt/conda/lib/python3.7/site-packages (from h5py->Keras-Applications==1.0.8) (1.14.0)\n",
            "Building wheels for collected packages: Keras-Applications\n",
            "  Building wheel for Keras-Applications (setup.py) ... \u001b[?25ldone\n",
            "\u001b[?25h  Created wheel for Keras-Applications: filename=Keras_Applications-1.0.8-py3-none-any.whl size=50704 sha256=7ab30958de043b9efe90ea21162f4adacbace59f9007b9b3ff033d2e1278fff4\n",
            "  Stored in directory: /root/.cache/pip/wheels/f4/96/13/eccdd9391bd8df958d78851b98ec4dc207ba05b67b011eb70a\n",
            "Successfully built Keras-Applications\n",
            "Installing collected packages: Keras-Applications\n",
            "Successfully installed Keras-Applications-1.0.8\n",
            "Looking in links: ./\n",
            "Processing /kaggle/input/efficientnet/efficientnet-1.1.0\n",
            "Requirement already satisfied: keras_applications<=1.0.8,>=1.0.7 in /opt/conda/lib/python3.7/site-packages (from efficientnet==1.1.0) (1.0.8)\n",
            "Requirement already satisfied: scikit-image in /opt/conda/lib/python3.7/site-packages (from efficientnet==1.1.0) (0.16.2)\n",
            "Requirement already satisfied: numpy>=1.9.1 in /opt/conda/lib/python3.7/site-packages (from keras_applications<=1.0.8,>=1.0.7->efficientnet==1.1.0) (1.18.5)\n",
            "Requirement already satisfied: h5py in /opt/conda/lib/python3.7/site-packages (from keras_applications<=1.0.8,>=1.0.7->efficientnet==1.1.0) (2.10.0)\n",
            "Requirement already satisfied: scipy>=0.19.0 in /opt/conda/lib/python3.7/site-packages (from scikit-image->efficientnet==1.1.0) (1.4.1)\n",
            "Requirement already satisfied: matplotlib!=3.0.0,>=2.0.0 in /opt/conda/lib/python3.7/site-packages (from scikit-image->efficientnet==1.1.0) (3.2.1)\n",
            "Requirement already satisfied: networkx>=2.0 in /opt/conda/lib/python3.7/site-packages (from scikit-image->efficientnet==1.1.0) (2.4)\n",
            "Requirement already satisfied: pillow>=4.3.0 in /opt/conda/lib/python3.7/site-packages (from scikit-image->efficientnet==1.1.0) (7.2.0)\n",
            "Requirement already satisfied: imageio>=2.3.0 in /opt/conda/lib/python3.7/site-packages (from scikit-image->efficientnet==1.1.0) (2.8.0)\n",
            "Requirement already satisfied: PyWavelets>=0.4.0 in /opt/conda/lib/python3.7/site-packages (from scikit-image->efficientnet==1.1.0) (1.1.1)\n",
            "Requirement already satisfied: six in /opt/conda/lib/python3.7/site-packages (from h5py->keras_applications<=1.0.8,>=1.0.7->efficientnet==1.1.0) (1.14.0)\n",
            "Requirement already satisfied: kiwisolver>=1.0.1 in /opt/conda/lib/python3.7/site-packages (from matplotlib!=3.0.0,>=2.0.0->scikit-image->efficientnet==1.1.0) (1.2.0)\n",
            "Requirement already satisfied: pyparsing!=2.0.4,!=2.1.2,!=2.1.6,>=2.0.1 in /opt/conda/lib/python3.7/site-packages (from matplotlib!=3.0.0,>=2.0.0->scikit-image->efficientnet==1.1.0) (2.4.7)\n",
            "Requirement already satisfied: cycler>=0.10 in /opt/conda/lib/python3.7/site-packages (from matplotlib!=3.0.0,>=2.0.0->scikit-image->efficientnet==1.1.0) (0.10.0)\n",
            "Requirement already satisfied: python-dateutil>=2.1 in /opt/conda/lib/python3.7/site-packages (from matplotlib!=3.0.0,>=2.0.0->scikit-image->efficientnet==1.1.0) (2.8.1)\n",
            "Requirement already satisfied: decorator>=4.3.0 in /opt/conda/lib/python3.7/site-packages (from networkx>=2.0->scikit-image->efficientnet==1.1.0) (4.4.2)\n",
            "Building wheels for collected packages: efficientnet\n",
            "  Building wheel for efficientnet (setup.py) ... \u001b[?25ldone\n",
            "\u001b[?25h  Created wheel for efficientnet: filename=efficientnet-1.1.0-py3-none-any.whl size=14141 sha256=ed341ebd610d36eef0a43bd9300627b4fb8a57f3d6b09080997c08975ed84738\n",
            "  Stored in directory: /root/.cache/pip/wheels/24/f5/31/3cc20871288fe532128224a3f5af7b4d67efb9835bd5683522\n",
            "Successfully built efficientnet\n",
            "Installing collected packages: efficientnet\n",
            "Successfully installed efficientnet-1.1.0\n"
          ],
          "name": "stdout"
        }
      ]
    },
    {
      "cell_type": "code",
      "metadata": {
        "_cell_guid": "79c7e3d0-c299-4dcb-8224-4455121ee9b0",
        "_uuid": "d629ff2d2480ee46fbb7e2d37f6b5fab8052498a",
        "trusted": true,
        "id": "Ym6QZPp-T-yq",
        "colab_type": "code",
        "colab": {}
      },
      "source": [
        "import os\n",
        "import datetime\n",
        "from functools import lru_cache\n",
        "import cv2\n",
        "import pydicom\n",
        "import pandas as pd\n",
        "import numpy as np \n",
        "import tensorflow as tf \n",
        "import matplotlib.pyplot as plt \n",
        "import random\n",
        "from tqdm.notebook import tqdm\n",
        "from sklearn.model_selection import train_test_split, KFold\n",
        "from sklearn.metrics import mean_absolute_error\n",
        "from sklearn.preprocessing import MinMaxScaler\n",
        "from tensorflow_addons.optimizers import RectifiedAdam\n",
        "from tensorflow.keras import Model\n",
        "import tensorflow.keras.backend as K\n",
        "import tensorflow.keras.layers as L\n",
        "import tensorflow.keras.models as M\n",
        "from tensorflow.keras.optimizers import Nadam\n",
        "import matplotlib.pyplot as plt\n",
        "import seaborn as sns\n",
        "from PIL import Image\n",
        "from colorama import Fore, Back, Style\n",
        "\n",
        "def seed_everything(seed=2020):\n",
        "    random.seed(seed)\n",
        "    os.environ['PYTHONHASHSEED'] = str(seed)\n",
        "    np.random.seed(seed)\n",
        "    tf.random.set_seed(seed)\n",
        "\n",
        "seed_everything(42)\n",
        "ROOT = \"../input/osic-pulmonary-fibrosis-progression/\""
      ],
      "execution_count": null,
      "outputs": []
    },
    {
      "cell_type": "code",
      "metadata": {
        "trusted": true,
        "id": "lTOxycjDT-yt",
        "colab_type": "code",
        "colab": {}
      },
      "source": [
        "config = tf.compat.v1.ConfigProto()\n",
        "config.gpu_options.allow_growth = True\n",
        "session = tf.compat.v1.Session(config=config)"
      ],
      "execution_count": null,
      "outputs": []
    },
    {
      "cell_type": "code",
      "metadata": {
        "trusted": true,
        "id": "Lkh-m21CT-yv",
        "colab_type": "code",
        "colab": {}
      },
      "source": [
        "train = pd.read_csv(os.path.join(ROOT, 'train.csv'))\n",
        "test = pd.read_csv(os.path.join(ROOT, 'test.csv'))"
      ],
      "execution_count": null,
      "outputs": []
    },
    {
      "cell_type": "markdown",
      "metadata": {
        "id": "2BNXeUQBT-yx",
        "colab_type": "text"
      },
      "source": [
        "# Linear Decay (based on EfficientNets)"
      ]
    },
    {
      "cell_type": "code",
      "metadata": {
        "trusted": true,
        "id": "e5RluZcoT-yx",
        "colab_type": "code",
        "colab": {}
      },
      "source": [
        "def get_agss_vector(df):\n",
        "    \n",
        "    \"\"\"agss = age, gender, smokingstatus\"\"\"\n",
        "    \n",
        "    normalized_age = [(df.Age.values[0] - 30) / 30] \n",
        "\n",
        "    gender = [0 if df.Sex.values[0] == 'male' else 1]\n",
        "    \n",
        "    if df.SmokingStatus.values[0] == 'Never smoked':\n",
        "        smoking_status = [0, 0]\n",
        "    elif df.SmokingStatus.values[0] == 'Ex-smoker':\n",
        "        smoking_status = [1, 1]\n",
        "    elif df.SmokingStatus.values[0] == 'Currently smokes':\n",
        "        smoking_status = [0, 1]\n",
        "    else:\n",
        "        smoking_status = [1, 0]\n",
        "\n",
        "    vector = normalized_age + gender + smoking_status\n",
        "    return np.array(vector)"
      ],
      "execution_count": null,
      "outputs": []
    },
    {
      "cell_type": "code",
      "metadata": {
        "trusted": true,
        "id": "QEI5U5auT-y0",
        "colab_type": "code",
        "colab": {}
      },
      "source": [
        "def sample_best_fit_line_weeks_vs_fvc():\n",
        "    \n",
        "    patient = train.Patient.sample().iloc[0]\n",
        "    sub = train.loc[train.Patient == patient, :]\n",
        "    fvc = sub.FVC.values\n",
        "    weeks = sub.Weeks.values\n",
        "    vals = np.c_[weeks, np.ones(len(weeks))]  # column-wise stack\n",
        "    \n",
        "    # see example https://numpy.org/doc/stable/reference/generated/numpy.linalg.lstsq.html\n",
        "    m, c = np.linalg.lstsq(vals, fvc, rcond=-1)[0]\n",
        "    \n",
        "    print(f\"Patient number: {patient}\")\n",
        "    print(\"FVC\", fvc)\n",
        "    print(\"Weeks\", weeks)\n",
        "    print(vals)\n",
        "    print(f\"gradient: {m:.2f}\\nintercept: {c:.2f}\")\n",
        "    print()\n",
        "    _ = plt.plot(weeks, fvc, 'o', label='Original data', markersize=10)\n",
        "    _ = plt.plot(weeks, m * weeks + c, 'r', label='Fitted line')\n",
        "    _ = plt.legend()\n",
        "    _ = plt.xlabel(\"Weeks\"), plt.ylabel(\"FVC\")\n",
        "    plt.show()"
      ],
      "execution_count": null,
      "outputs": []
    },
    {
      "cell_type": "code",
      "metadata": {
        "trusted": true,
        "id": "qIeGBNt5T-y2",
        "colab_type": "code",
        "colab": {},
        "outputId": "f9f9d886-204a-407a-f90a-9582092fbe67"
      },
      "source": [
        "# gradient = rate of decay in FVC values\n",
        "sample_best_fit_line_weeks_vs_fvc()"
      ],
      "execution_count": null,
      "outputs": [
        {
          "output_type": "stream",
          "text": [
            "Patient number: ID00099637202206203080121\n",
            "FVC [2934 2866 3065 3089 3005 3001 2769 2708 2862 2833]\n",
            "Weeks [ 44  47  49  51  53  58  70  83  98 102]\n",
            "[[ 44.   1.]\n",
            " [ 47.   1.]\n",
            " [ 49.   1.]\n",
            " [ 51.   1.]\n",
            " [ 53.   1.]\n",
            " [ 58.   1.]\n",
            " [ 70.   1.]\n",
            " [ 83.   1.]\n",
            " [ 98.   1.]\n",
            " [102.   1.]]\n",
            "gradient: -3.62\n",
            "intercept: 3150.44\n",
            "\n"
          ],
          "name": "stdout"
        },
        {
          "output_type": "display_data",
          "data": {
            "text/plain": [
              "<Figure size 432x288 with 1 Axes>"
            ],
            "image/png": "[encoded data removed]"
          },
          "metadata": {
            "tags": [],
            "needs_background": "light"
          }
        }
      ]
    },
    {
      "cell_type": "code",
      "metadata": {
        "trusted": true,
        "id": "RdVXguUmT-y4",
        "colab_type": "code",
        "colab": {}
      },
      "source": [
        "gradients = {} \n",
        "agss_vectors = {} \n",
        "patients = []\n",
        "\n",
        "for i, patient_id in enumerate(train.Patient.unique()):\n",
        "    sub = train.loc[train.Patient == patient_id, :] \n",
        "    fvc = sub.FVC.values\n",
        "    weeks = sub.Weeks.values\n",
        "    c = np.c_[weeks, np.ones(len(weeks))]\n",
        "    gradient, intercept = np.linalg.lstsq(c, fvc, rcond=-1)[0]\n",
        "    \n",
        "    gradients[patient_id] = gradient\n",
        "    agss_vectors[patient_id] = get_agss_vector(sub)\n",
        "    patients.append(patient_id)"
      ],
      "execution_count": null,
      "outputs": []
    },
    {
      "cell_type": "markdown",
      "metadata": {
        "id": "7HCKFRY0T-y6",
        "colab_type": "text"
      },
      "source": [
        "## CNN for coeff prediction"
      ]
    },
    {
      "cell_type": "code",
      "metadata": {
        "trusted": true,
        "id": "8diuBEUWT-y6",
        "colab_type": "code",
        "colab": {}
      },
      "source": [
        "def get_img(path):\n",
        "    d = pydicom.dcmread(path)\n",
        "    return cv2.resize(d.pixel_array / 2**11, (512, 512))"
      ],
      "execution_count": null,
      "outputs": []
    },
    {
      "cell_type": "code",
      "metadata": {
        "trusted": true,
        "id": "mWt7f40FT-y8",
        "colab_type": "code",
        "colab": {},
        "outputId": "20e43cf6-80c9-4769-cca7-7654096c625b"
      },
      "source": [
        "# sample\n",
        "_ = plt.imshow(get_img(os.path.join(ROOT, \"train\", \"ID00007637202177411956430\", \"1.dcm\")))"
      ],
      "execution_count": null,
      "outputs": [
        {
          "output_type": "display_data",
          "data": {
            "text/plain": [
              "<Figure size 432x288 with 1 Axes>"
            ],
            "image/png": "[encoded data removed]"
          },
          "metadata": {
            "tags": [],
            "needs_background": "light"
          }
        }
      ]
    },
    {
      "cell_type": "code",
      "metadata": {
        "trusted": true,
        "id": "7JABBFjQT-y-",
        "colab_type": "code",
        "colab": {},
        "outputId": "4d0037af-47d8-476e-dda3-0026426edb59"
      },
      "source": [
        "from tensorflow.keras.layers import (\n",
        "    Input,\n",
        "    Activation,\n",
        "    LeakyReLU,\n",
        "    Dropout,\n",
        "    BatchNormalization,\n",
        "    Dense,\n",
        "    Conv2D, \n",
        "    AveragePooling2D,\n",
        "    GlobalAveragePooling2D,\n",
        "    Add,\n",
        "    Flatten,\n",
        "    Concatenate,\n",
        ")\n",
        "import efficientnet.tfkeras as efn\n",
        "\n",
        "def get_efficientnet(model, shape):\n",
        "    models_dict = {\n",
        "        'b0': efn.EfficientNetB0(input_shape=shape, weights=None, include_top=False),\n",
        "        'b1': efn.EfficientNetB1(input_shape=shape, weights=None, include_top=False),\n",
        "        'b2': efn.EfficientNetB2(input_shape=shape, weights=None, include_top=False),\n",
        "        'b3': efn.EfficientNetB3(input_shape=shape, weights=None, include_top=False),\n",
        "        'b4': efn.EfficientNetB4(input_shape=shape, weights=None, include_top=False),\n",
        "        'b5': efn.EfficientNetB5(input_shape=shape, weights=None, include_top=False),\n",
        "        'b6': efn.EfficientNetB6(input_shape=shape, weights=None, include_top=False),\n",
        "        'b7': efn.EfficientNetB7(input_shape=shape, weights=None, include_top=False),\n",
        "    }\n",
        "    return models_dict[model]\n",
        "\n",
        "def build_model(shape=(512, 512, 1), model_class=None):\n",
        "    \n",
        "    img_inp = Input(shape=shape, name=\"image_input\")\n",
        "    base = get_efficientnet(model_class, shape)\n",
        "    x = base(img_inp)\n",
        "    img_outp = GlobalAveragePooling2D()(x)\n",
        "    \n",
        "    # AGSS = Age + Gender + SmokingStatus\n",
        "    agss_inp = Input(shape=(4,), name=\"age_gender_smokingsstatus_input\")\n",
        "    agss_outp = tf.keras.layers.GaussianNoise(0.2)(agss_inp)\n",
        "    \n",
        "    x = Concatenate()([img_outp, agss_outp]) \n",
        "    x = Dropout(0.5)(x) \n",
        "    output = Dense(1)(x)\n",
        "    \n",
        "    model = Model([img_inp, agss_inp] , output)\n",
        "    weights = [w for w in os.listdir('../input/osic-model-weights') if model_class in w]\n",
        "    assert len(weights) == 1, \"More than one model weights match the 'model_class' substring\"\n",
        "    model.load_weights('../input/osic-model-weights/' + weights[0])\n",
        "    \n",
        "    return model\n",
        "\n",
        "model_classes = ['b5']  # ['b0','b1','b2','b3',b4','b5','b6','b7']\n",
        "models = [build_model(shape=(512, 512, 1), model_class=m) for m in model_classes]\n",
        "print('Number of models: ' + str(len(models)))"
      ],
      "execution_count": null,
      "outputs": [
        {
          "output_type": "stream",
          "text": [
            "Number of models: 1\n"
          ],
          "name": "stdout"
        }
      ]
    },
    {
      "cell_type": "code",
      "metadata": {
        "trusted": true,
        "id": "hOl9Z7sHT-zB",
        "colab_type": "code",
        "colab": {},
        "outputId": "fdf65eba-eecf-4a67-ae47-68dc8e93e16b"
      },
      "source": [
        "models[0].summary()"
      ],
      "execution_count": null,
      "outputs": [
        {
          "output_type": "stream",
          "text": [
            "Model: \"model\"\n",
            "__________________________________________________________________________________________________\n",
            "Layer (type)                    Output Shape         Param #     Connected to                     \n",
            "==================================================================================================\n",
            "image_input (InputLayer)        [(None, 512, 512, 1) 0                                            \n",
            "__________________________________________________________________________________________________\n",
            "efficientnet-b5 (Model)         (None, 16, 16, 2048) 28512656    image_input[0][0]                \n",
            "__________________________________________________________________________________________________\n",
            "age_gender_smokingsstatus_input [(None, 4)]          0                                            \n",
            "__________________________________________________________________________________________________\n",
            "global_average_pooling2d (Globa (None, 2048)         0           efficientnet-b5[1][0]            \n",
            "__________________________________________________________________________________________________\n",
            "gaussian_noise (GaussianNoise)  (None, 4)            0           age_gender_smokingsstatus_input[0\n",
            "__________________________________________________________________________________________________\n",
            "concatenate (Concatenate)       (None, 2052)         0           global_average_pooling2d[0][0]   \n",
            "                                                                 gaussian_noise[0][0]             \n",
            "__________________________________________________________________________________________________\n",
            "dropout (Dropout)               (None, 2052)         0           concatenate[0][0]                \n",
            "__________________________________________________________________________________________________\n",
            "dense (Dense)                   (None, 1)            2053        dropout[0][0]                    \n",
            "==================================================================================================\n",
            "Total params: 28,514,709\n",
            "Trainable params: 28,341,973\n",
            "Non-trainable params: 172,736\n",
            "__________________________________________________________________________________________________\n"
          ],
          "name": "stdout"
        }
      ]
    },
    {
      "cell_type": "code",
      "metadata": {
        "trusted": true,
        "id": "dhGe9G0CT-zD",
        "colab_type": "code",
        "colab": {},
        "outputId": "e4e928c3-3906-4b80-bca3-cd3831284ef2"
      },
      "source": [
        "tf.keras.utils.plot_model(\n",
        "    models[0], \n",
        "    to_file='model.png',\n",
        "    show_shapes=False, \n",
        "    show_layer_names=True,\n",
        "    rankdir='TB',\n",
        "    expand_nested=False, \n",
        "    dpi=120,\n",
        ")"
      ],
      "execution_count": null,
      "outputs": [
        {
          "output_type": "execute_result",
          "data": {
            "image/png": "[encoded data removed]",
            "text/plain": [
              "<IPython.core.display.Image object>"
            ]
          },
          "metadata": {
            "tags": []
          },
          "execution_count": 14
        }
      ]
    },
    {
      "cell_type": "code",
      "metadata": {
        "trusted": true,
        "id": "KkXceD1XT-zE",
        "colab_type": "code",
        "colab": {}
      },
      "source": [
        "train_patients, validation_patients = train_test_split(patients, shuffle=True, train_size=0.8)"
      ],
      "execution_count": null,
      "outputs": []
    },
    {
      "cell_type": "code",
      "metadata": {
        "trusted": true,
        "id": "Nid4Pi3gT-zG",
        "colab_type": "code",
        "colab": {},
        "outputId": "a399d178-2197-4cea-f8a4-e639d431108c"
      },
      "source": [
        "sns.distplot(list(gradients.values()));"
      ],
      "execution_count": null,
      "outputs": [
        {
          "output_type": "display_data",
          "data": {
            "text/plain": [
              "<Figure size 432x288 with 1 Axes>"
            ],
            "image/png": "[encoded data removed]"
          },
          "metadata": {
            "tags": [],
            "needs_background": "light"
          }
        }
      ]
    },
    {
      "cell_type": "code",
      "metadata": {
        "trusted": true,
        "id": "Uvieuu42T-zJ",
        "colab_type": "code",
        "colab": {}
      },
      "source": [
        "DFs = {\n",
        "    \"train\": train,\n",
        "    \"test\": test,\n",
        "}"
      ],
      "execution_count": null,
      "outputs": []
    },
    {
      "cell_type": "code",
      "metadata": {
        "trusted": true,
        "id": "jBsOo07ZT-zK",
        "colab_type": "code",
        "colab": {}
      },
      "source": [
        "def fetch_images(patient_id, root=ROOT):\n",
        "    image_files = os.listdir(os.path.join(root, f'train/{patient_id}/'))\n",
        "    images = read_images_in_middle_of_scan(image_files, patient_id)\n",
        "    return images\n",
        "\n",
        "def read_images_in_middle_of_scan(image_files, patient_id, lower=0.15, upper=0.8):\n",
        "    images = []\n",
        "    for filename in image_files:\n",
        "        file_no, _ = os.path.splitext(filename) # cut out '.dcm' file extension\n",
        "        file_no = int(file_no)\n",
        "        is_img_slice_in_middle = lower < file_no / len(image_files) < upper\n",
        "        if is_img_slice_in_middle:\n",
        "            image_filepath = os.path.join(ROOT, f'train/{patient_id}/{filename}')\n",
        "            images.append(get_img(image_filepath))\n",
        "    return images\n",
        "\n",
        "def create_agss_vec_mat(patient_df, num_rows):\n",
        "    agss_vector = get_agss_vector(patient_df)\n",
        "    agss_matrix = np.array([agss_vector] * num_rows)\n",
        "    return agss_vector, agss_matrix\n",
        "\n",
        "def filter_df_with_patient_id(df, patient_id, patient_col=\"Patient\"):\n",
        "    return df.loc[df[patient_col] == patient_id, :]\n",
        "\n",
        "def pred_fvc(x, m, c):\n",
        "    \"\"\"\n",
        "    x --> weeks from base week\n",
        "    m --> gradient i.e. rate of FVC decay (would be -ve for a patient with disease)\n",
        "    c --> base week FVC\n",
        "    \"\"\"\n",
        "    return m * x + c\n",
        "\n",
        "def pred_confidence(base_percent, m, gap_in_weeks):\n",
        "    \"\"\"\n",
        "    Predict confidence AKA \"std deviation\". Lower val means high confidence in predicted FVC.\n",
        "    base_percent --> percentage in the base week\n",
        "    m --> gradient i.e. rate of FVC decay (would be -ve for a patient with disease)\n",
        "    gap_in_weeks --> just the gap irrespective of whether in the past or future\n",
        "    \"\"\"\n",
        "    \n",
        "    # the formula takes into account that as prediction moves away from the base week,\n",
        "    # confidence drops (value gets bigger since m is or would be for most -ve)\n",
        "    return base_percent - m * abs(gap_in_weeks)\n",
        "\n",
        "def score(fvc_true, fvc_pred, sigma):\n",
        "    sigma_clip = np.maximum(sigma, 70) # changed from 70, trie 66.7 too\n",
        "    delta = np.abs(fvc_true - fvc_pred)\n",
        "    delta = np.minimum(delta, 1000)\n",
        "    sq2 = np.sqrt(2)\n",
        "    metric = (delta / sigma_clip) * sq2 + np.log(sigma_clip * sq2)\n",
        "    return np.mean(metric)\n",
        "\n",
        "@lru_cache(1000)\n",
        "def make_model_pred(df_name, patient_id, model_idx):\n",
        "    global DFs\n",
        "    df = DFs[df_name]\n",
        "    patient_df = df[df.Patient == patient_id]\n",
        "    images = fetch_images(patient_id)\n",
        "    images = np.expand_dims(images, axis=-1)\n",
        "    agss_vector, agss_matrix = create_agss_vec_mat(patient_df, num_rows=images.shape[0])\n",
        "    return models[model_idx].predict([images, agss_matrix])"
      ],
      "execution_count": null,
      "outputs": []
    },
    {
      "cell_type": "code",
      "metadata": {
        "trusted": true,
        "id": "6Mxdi1IyT-zN",
        "colab_type": "code",
        "colab": {}
      },
      "source": [
        "def calc_patient_score(df_name, patient_id, quantile, model_idx, return_extra_vals=False):\n",
        "    global DFs\n",
        "    df = DFs[df_name]\n",
        "    patient_df = df[df.Patient == patient_id]\n",
        "    assert not patient_df.empty\n",
        "    \n",
        "    # model predicts for each image + agss_vector input\n",
        "    gradients = make_model_pred(df_name, patient_id, model_idx)\n",
        "    \n",
        "    if gradients is None:\n",
        "        return  # if no valid images in range, it will be None\n",
        "    gradient = np.quantile(gradients, quantile)  # gradient @ quantile from gradients\n",
        "\n",
        "    percent_true = patient_df.Percent.values\n",
        "    fvc_true = patient_df.FVC.values\n",
        "    weeks_true = patient_df.Weeks.values\n",
        "\n",
        "    fvc_predict = pred_fvc(x=(weeks_true - weeks_true[0]), m=gradient, c=fvc_true[0])\n",
        "    confidence = pred_confidence(base_percent=percent_true[0], \n",
        "                                 m=gradient, \n",
        "                                 gap_in_weeks=(weeks_true - weeks_true[0]),\n",
        "                                )\n",
        "    patient_score = score(fvc_true, fvc_predict, confidence)\n",
        "    if not return_extra_vals:\n",
        "        return patient_score\n",
        "    else:\n",
        "        return patient_score, gradient, fvc_predict, confidence"
      ],
      "execution_count": null,
      "outputs": []
    },
    {
      "cell_type": "code",
      "metadata": {
        "trusted": true,
        "id": "V-4ljUmKT-zO",
        "colab_type": "code",
        "colab": {},
        "outputId": "6284d756-0d76-4013-b416-78ce056c5e3a"
      },
      "source": [
        "subs = []\n",
        "start = datetime.datetime.now()\n",
        "for model_idx in range(len(models)):\n",
        "    quantile_means = []\n",
        "    quantiles = np.arange(0.1, 1.0, 0.05)\n",
        "    for quantile in quantiles:\n",
        "        \n",
        "        print(f\"Quantile: {quantile:.2f}\", end=\" -->  \")\n",
        "        patient_scores_per_quantile = []\n",
        "        \n",
        "        for patient_id in validation_patients:\n",
        "            if patient_id in ['ID00011637202177653955184', 'ID00052637202186188008618']:\n",
        "                continue\n",
        "            one_patient_score_per_quantile = calc_patient_score(\"train\", \n",
        "                                                                patient_id, \n",
        "                                                                quantile, model_idx,\n",
        "                                                               )\n",
        "            if one_patient_score_per_quantile is not None:\n",
        "                patient_scores_per_quantile.append(one_patient_score_per_quantile)\n",
        "\n",
        "        mean_quantile_score = np.mean(patient_scores_per_quantile)\n",
        "        print(f\"Patient scores mean for quantile {quantile:.2f}: {mean_quantile_score:.4f}\")\n",
        "        quantile_means.append(mean_quantile_score)\n",
        "\n",
        "    sub = pd.read_csv(os.path.join(ROOT,'sample_submission.csv'))\n",
        "    test = pd.read_csv(os.path.join(ROOT,'test.csv'))\n",
        "\n",
        "    ## quantile with the smallest mean -> smallest error\n",
        "    lowest_quantile_mean_idx = np.argmin(quantile_means)\n",
        "    lowest_quantile = (lowest_quantile_mean_idx + 1) / 10\n",
        "\n",
        "    gradient_test, calc_fvc_base_test, percent_test, base_weeks_test = {}, {}, {}, {}\n",
        "    \n",
        "    # this loop defines base parameters for each patient needed to calculate week-by-week prediction\n",
        "    for patient_id in test.Patient.unique():\n",
        "        _, gradient, *_ = calc_patient_score(\"test\", \n",
        "                                             patient_id, \n",
        "                                             lowest_quantile,\n",
        "                                             model_idx,\n",
        "                                             return_extra_vals=True,\n",
        "                                            )  # only gradient needed\n",
        "        patient_df = test[test.Patient == patient_id]\n",
        "        \n",
        "        # test assumption: df will have 1 row since test set\n",
        "        assert patient_df.shape[0] == 1\n",
        "        \n",
        "        gradient_test[patient_id] = gradient  # prediction value of the model\n",
        "        \n",
        "        # pred of FVC at week 0 itself. Other weeks will be predicted using this as base\n",
        "        calc_fvc_base_test[patient_id] = (patient_df.FVC.values - \n",
        "                                          gradient * patient_df.Weeks).values[0]  \n",
        "\n",
        "        percent_test[patient_id] = patient_df.Percent.values[0]\n",
        "        base_weeks_test[patient_id] = patient_df.Weeks.values[0]\n",
        "\n",
        "    # this loop predicts values (FVC and confidence) for each patient's each week\n",
        "    for k in sub.Patient_Week.values:\n",
        "        \n",
        "        patient_id, week_no = k.split('_')\n",
        "        week_no = int(week_no)\n",
        "        \n",
        "        gradient = gradient_test[patient_id]\n",
        "        base_fvc = calc_fvc_base_test[patient_id]\n",
        "        base_percent = percent_test[patient_id]\n",
        "        base_week = base_weeks_test[patient_id]\n",
        "        gap_from_base_week = base_week - week_no\n",
        "        \n",
        "        predicted_fvc = pred_fvc(week_no, m=gradient, c=base_fvc)\n",
        "        predicted_conf = pred_confidence(base_percent,\n",
        "                                         m=gradient,\n",
        "                                         gap_in_weeks=gap_from_base_week,\n",
        "                                        )\n",
        "        \n",
        "        sub.loc[sub.Patient_Week==k, 'FVC'] = predicted_fvc\n",
        "        sub.loc[sub.Patient_Week==k, 'Confidence'] = predicted_conf\n",
        "    \n",
        "    sub_ = sub[[\"Patient_Week\", \"FVC\", \"Confidence\"]].copy()\n",
        "    subs.append(sub_)\n",
        "end = datetime.datetime.now()\n",
        "print(end - start)"
      ],
      "execution_count": null,
      "outputs": [
        {
          "output_type": "stream",
          "text": [
            "Quantile: 0.10 -->  Patient scores mean for quantile 0.10: 6.5767\n",
            "Quantile: 0.15 -->  Patient scores mean for quantile 0.15: 6.5767\n",
            "Quantile: 0.20 -->  Patient scores mean for quantile 0.20: 6.5767\n",
            "Quantile: 0.25 -->  Patient scores mean for quantile 0.25: 6.5767\n",
            "Quantile: 0.30 -->  Patient scores mean for quantile 0.30: 6.5767\n",
            "Quantile: 0.35 -->  Patient scores mean for quantile 0.35: 6.5767\n",
            "Quantile: 0.40 -->  Patient scores mean for quantile 0.40: 6.5767\n",
            "Quantile: 0.45 -->  Patient scores mean for quantile 0.45: 6.5767\n",
            "Quantile: 0.50 -->  Patient scores mean for quantile 0.50: 6.5767\n",
            "Quantile: 0.55 -->  Patient scores mean for quantile 0.55: 6.5767\n",
            "Quantile: 0.60 -->  Patient scores mean for quantile 0.60: 6.5767\n",
            "Quantile: 0.65 -->  Patient scores mean for quantile 0.65: 6.5767\n",
            "Quantile: 0.70 -->  Patient scores mean for quantile 0.70: 6.5767\n",
            "Quantile: 0.75 -->  Patient scores mean for quantile 0.75: 6.5767\n",
            "Quantile: 0.80 -->  Patient scores mean for quantile 0.80: 6.5767\n",
            "Quantile: 0.85 -->  Patient scores mean for quantile 0.85: 6.5767\n",
            "Quantile: 0.90 -->  Patient scores mean for quantile 0.90: 6.5768\n",
            "Quantile: 0.95 -->  Patient scores mean for quantile 0.95: 6.5768\n",
            "0:02:47.218918\n"
          ],
          "name": "stdout"
        }
      ]
    },
    {
      "cell_type": "markdown",
      "metadata": {
        "id": "EwyjfRcbT-zQ",
        "colab_type": "text"
      },
      "source": [
        "## Averaging Predictions"
      ]
    },
    {
      "cell_type": "code",
      "metadata": {
        "trusted": true,
        "id": "IHLxzA2FT-zR",
        "colab_type": "code",
        "colab": {}
      },
      "source": [
        "N = len(subs)\n",
        "sub = subs[0].copy() # ref\n",
        "sub[\"FVC\"] = 0\n",
        "sub[\"Confidence\"] = 0\n",
        "for i in range(N):\n",
        "    sub[\"FVC\"] += subs[0][\"FVC\"] * (1/N)\n",
        "    sub[\"Confidence\"] += subs[0][\"Confidence\"] * (1/N)"
      ],
      "execution_count": null,
      "outputs": []
    },
    {
      "cell_type": "code",
      "metadata": {
        "trusted": true,
        "id": "eVTDsU7CT-zS",
        "colab_type": "code",
        "colab": {},
        "outputId": "14eaf20a-a2b9-4d57-8fe7-24a95ff25b42"
      },
      "source": [
        "sub.head()"
      ],
      "execution_count": null,
      "outputs": [
        {
          "output_type": "execute_result",
          "data": {
            "text/plain": [
              "                    Patient_Week          FVC  Confidence\n",
              "0  ID00419637202311204720264_-12  3092.865257  143.052113\n",
              "1  ID00421637202311550012437_-12  2847.514586  190.559877\n",
              "2  ID00422637202311677017371_-12  2002.671623  149.344117\n",
              "3  ID00423637202312137826377_-12  3410.771229  196.030132\n",
              "4  ID00426637202313170790466_-12  2971.473869  118.298837"
            ],
            "text/html": [
              "<div>\n",
              "<style scoped>\n",
              "    .dataframe tbody tr th:only-of-type {\n",
              "        vertical-align: middle;\n",
              "    }\n",
              "\n",
              "    .dataframe tbody tr th {\n",
              "        vertical-align: top;\n",
              "    }\n",
              "\n",
              "    .dataframe thead th {\n",
              "        text-align: right;\n",
              "    }\n",
              "</style>\n",
              "<table border=\"1\" class=\"dataframe\">\n",
              "  <thead>\n",
              "    <tr style=\"text-align: right;\">\n",
              "      <th></th>\n",
              "      <th>Patient_Week</th>\n",
              "      <th>FVC</th>\n",
              "      <th>Confidence</th>\n",
              "    </tr>\n",
              "  </thead>\n",
              "  <tbody>\n",
              "    <tr>\n",
              "      <th>0</th>\n",
              "      <td>ID00419637202311204720264_-12</td>\n",
              "      <td>3092.865257</td>\n",
              "      <td>143.052113</td>\n",
              "    </tr>\n",
              "    <tr>\n",
              "      <th>1</th>\n",
              "      <td>ID00421637202311550012437_-12</td>\n",
              "      <td>2847.514586</td>\n",
              "      <td>190.559877</td>\n",
              "    </tr>\n",
              "    <tr>\n",
              "      <th>2</th>\n",
              "      <td>ID00422637202311677017371_-12</td>\n",
              "      <td>2002.671623</td>\n",
              "      <td>149.344117</td>\n",
              "    </tr>\n",
              "    <tr>\n",
              "      <th>3</th>\n",
              "      <td>ID00423637202312137826377_-12</td>\n",
              "      <td>3410.771229</td>\n",
              "      <td>196.030132</td>\n",
              "    </tr>\n",
              "    <tr>\n",
              "      <th>4</th>\n",
              "      <td>ID00426637202313170790466_-12</td>\n",
              "      <td>2971.473869</td>\n",
              "      <td>118.298837</td>\n",
              "    </tr>\n",
              "  </tbody>\n",
              "</table>\n",
              "</div>"
            ]
          },
          "metadata": {
            "tags": []
          },
          "execution_count": 22
        }
      ]
    }
  ]
}